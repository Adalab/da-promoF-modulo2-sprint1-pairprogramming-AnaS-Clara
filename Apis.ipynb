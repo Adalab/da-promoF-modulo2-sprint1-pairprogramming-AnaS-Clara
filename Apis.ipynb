{
 "cells": [
  {
   "cell_type": "markdown",
   "metadata": {},
   "source": [
    "1. Extracción de Datos a Nivel Nacional:\n",
    "Extraer datos de generación de energía renovable y no renovable a nivel nacional desde el 1 de enero de 2011 hasta el 31 de diciembre de 2022. La información debe ser recopilada a nivel mensual."
   ]
  },
  {
   "cell_type": "markdown",
   "metadata": {},
   "source": [
    "2. Transformar los datos para incluir una columna nueva que identifique si la energía es renovable o no renovable."
   ]
  },
  {
   "cell_type": "markdown",
   "metadata": {},
   "source": [
    "3. Almacenar los datos en un DataFrame con la siguiente estructura:\n"
   ]
  },
  {
   "cell_type": "code",
   "execution_count": 1,
   "metadata": {},
   "outputs": [],
   "source": [
    "import requests\n",
    "import pandas as pd"
   ]
  },
  {
   "cell_type": "code",
   "execution_count": 7,
   "metadata": {},
   "outputs": [],
   "source": [
    "# Traernos los datos de la web y llamada a la api\n",
    "\n",
    "url = 'https://apidatos.ree.es/es/datos/generacion/evolucion-renovable-no-renovable?start_date=2011-01-01T00:00&end_date=2011-12-31T23:59&time_trunc=month&geo_limit=ccaa'"
   ]
  },
  {
   "cell_type": "code",
   "execution_count": 8,
   "metadata": {},
   "outputs": [
    {
     "data": {
      "text/plain": [
       "200"
      ]
     },
     "execution_count": 8,
     "metadata": {},
     "output_type": "execute_result"
    }
   ],
   "source": [
    "# tenemos que meter startdate y enddate un año, no podemos en esta api solicitar la información de todos los años de una (hay que ir año a año).\n",
    "res1 = requests.get(url)\n",
    "res1.status_code"
   ]
  },
  {
   "cell_type": "code",
   "execution_count": 9,
   "metadata": {},
   "outputs": [
    {
     "data": {
      "text/plain": [
       "{'data': {'type': 'Evolución de la generación renovable/no renovable',\n",
       "  'id': 'gen2',\n",
       "  'attributes': {'title': 'Evolución de la generación renovable/no renovable',\n",
       "   'last-update': '2019-06-12T15:32:24.000+02:00',\n",
       "   'description': None},\n",
       "  'meta': {'cache-control': {'cache': 'HIT',\n",
       "    'expireAt': '2023-11-24T08:38:00'}}},\n",
       " 'included': [{'type': 'Renovable',\n",
       "   'id': '10299',\n",
       "   'groupId': None,\n",
       "   'attributes': {'title': 'Renovable',\n",
       "    'description': 'Energía renovable: incluye hidráulica, hidroeólica, eólica, solar fotovoltaica, solar térmica, otras renovables y residuos renovables.',\n",
       "    'color': '#92d050',\n",
       "    'type': 'Renovable',\n",
       "    'magnitude': None,\n",
       "    'composite': False,\n",
       "    'last-update': '2019-06-12T15:32:24.000+02:00',\n",
       "    'values': [{'value': 9918268.536,\n",
       "      'percentage': 0.19139538179995882,\n",
       "      'datetime': '2011-01-01T00:00:00.000+01:00'},\n",
       "     {'value': 7991499.8525,\n",
       "      'percentage': 0.17269864333123283,\n",
       "      'datetime': '2011-02-01T00:00:00.000+01:00'},\n",
       "     {'value': 9606067.697,\n",
       "      'percentage': 0.19156745937028827,\n",
       "      'datetime': '2011-03-01T00:00:00.000+01:00'},\n",
       "     {'value': 8123455.767,\n",
       "      'percentage': 0.18732266381212814,\n",
       "      'datetime': '2011-04-01T00:00:00.000+02:00'},\n",
       "     {'value': 7251163.8615,\n",
       "      'percentage': 0.1657916246078299,\n",
       "      'datetime': '2011-05-01T00:00:00.000+02:00'},\n",
       "     {'value': 6452804.794,\n",
       "      'percentage': 0.14311192494227135,\n",
       "      'datetime': '2011-06-01T00:00:00.000+02:00'},\n",
       "     {'value': 6498576.444,\n",
       "      'percentage': 0.13562504173744516,\n",
       "      'datetime': '2011-07-01T00:00:00.000+02:00'},\n",
       "     {'value': 5727787.99,\n",
       "      'percentage': 0.12260199717031858,\n",
       "      'datetime': '2011-08-01T00:00:00.000+02:00'},\n",
       "     {'value': 4933369.656,\n",
       "      'percentage': 0.10704288632341043,\n",
       "      'datetime': '2011-09-01T00:00:00.000+02:00'},\n",
       "     {'value': 5622637.3765,\n",
       "      'percentage': 0.12641033151700684,\n",
       "      'datetime': '2011-10-01T00:00:00.000+02:00'},\n",
       "     {'value': 6825133.5855,\n",
       "      'percentage': 0.15078926722915656,\n",
       "      'datetime': '2011-11-01T00:00:00.000+01:00'},\n",
       "     {'value': 7716287.29,\n",
       "      'percentage': 0.16138818766585725,\n",
       "      'datetime': '2011-12-01T00:00:00.000+01:00'}]}},\n",
       "  {'type': 'Renovable',\n",
       "   'id': '10343',\n",
       "   'groupId': None,\n",
       "   'attributes': {'title': 'Renovable',\n",
       "    'description': 'Energía renovable: incluye hidráulica, hidroeólica, eólica, solar fotovoltaica, solar térmica, otras renovables y residuos renovables.',\n",
       "    'color': '#92d050',\n",
       "    'type': 'Renovable',\n",
       "    'magnitude': None,\n",
       "    'composite': False,\n",
       "    'last-update': '2019-06-20T14:30:27.000+02:00',\n",
       "    'values': [{'value': 9918268.54,\n",
       "      'percentage': 0.19139538187714783,\n",
       "      'datetime': '2011-01-01T00:00:00.000+01:00'},\n",
       "     {'value': 7991499.8685,\n",
       "      'percentage': 0.1726986436769975,\n",
       "      'datetime': '2011-02-01T00:00:00.000+01:00'},\n",
       "     {'value': 9606067.704,\n",
       "      'percentage': 0.19156745950988463,\n",
       "      'datetime': '2011-03-01T00:00:00.000+01:00'},\n",
       "     {'value': 8123455.753,\n",
       "      'percentage': 0.1873226634892954,\n",
       "      'datetime': '2011-04-01T00:00:00.000+02:00'},\n",
       "     {'value': 7251163.8805,\n",
       "      'percentage': 0.16579162504224856,\n",
       "      'datetime': '2011-05-01T00:00:00.000+02:00'},\n",
       "     {'value': 6452804.799,\n",
       "      'percentage': 0.14311192505316261,\n",
       "      'datetime': '2011-06-01T00:00:00.000+02:00'},\n",
       "     {'value': 6498576.443,\n",
       "      'percentage': 0.1356250417165752,\n",
       "      'datetime': '2011-07-01T00:00:00.000+02:00'},\n",
       "     {'value': 5727787.995,\n",
       "      'percentage': 0.12260199727734243,\n",
       "      'datetime': '2011-08-01T00:00:00.000+02:00'},\n",
       "     {'value': 4933369.654,\n",
       "      'percentage': 0.10704288628001497,\n",
       "      'datetime': '2011-09-01T00:00:00.000+02:00'},\n",
       "     {'value': 5622637.3785,\n",
       "      'percentage': 0.1264103315619716,\n",
       "      'datetime': '2011-10-01T00:00:00.000+02:00'},\n",
       "     {'value': 6825133.5745,\n",
       "      'percentage': 0.15078926698613102,\n",
       "      'datetime': '2011-11-01T00:00:00.000+01:00'},\n",
       "     {'value': 7716287.29,\n",
       "      'percentage': 0.16138818766585725,\n",
       "      'datetime': '2011-12-01T00:00:00.000+01:00'}]}},\n",
       "  {'type': 'No renovable',\n",
       "   'id': '10298',\n",
       "   'groupId': None,\n",
       "   'attributes': {'title': 'No renovable',\n",
       "    'description': None,\n",
       "    'color': '#666666',\n",
       "    'type': 'No renovable',\n",
       "    'magnitude': None,\n",
       "    'composite': False,\n",
       "    'last-update': '2019-06-12T15:32:24.000+02:00',\n",
       "    'values': [{'value': 15992149.058,\n",
       "      'percentage': 0.30860461820004126,\n",
       "      'datetime': '2011-01-01T00:00:00.000+01:00'},\n",
       "     {'value': 15145624.1525,\n",
       "      'percentage': 0.3273013566687672,\n",
       "      'datetime': '2011-02-01T00:00:00.000+01:00'},\n",
       "     {'value': 15466216.837,\n",
       "      'percentage': 0.3084325406596253,\n",
       "      'datetime': '2011-03-01T00:00:00.000+01:00'},\n",
       "     {'value': 13559600.629,\n",
       "      'percentage': 0.31267733621093136,\n",
       "      'datetime': '2011-04-01T00:00:00.000+02:00'},\n",
       "     {'value': 14617141.8465,\n",
       "      'percentage': 0.3342083753921701,\n",
       "      'datetime': '2011-05-01T00:00:00.000+02:00'},\n",
       "     {'value': 16091804.248,\n",
       "      'percentage': 0.3568880750688178,\n",
       "      'datetime': '2011-06-01T00:00:00.000+02:00'},\n",
       "     {'value': 17459301.691,\n",
       "      'percentage': 0.3643749582625548,\n",
       "      'datetime': '2011-07-01T00:00:00.000+02:00'},\n",
       "     {'value': 17631488.867,\n",
       "      'percentage': 0.3773980028510862,\n",
       "      'datetime': '2011-08-01T00:00:00.000+02:00'},\n",
       "     {'value': 18110523.433,\n",
       "      'percentage': 0.39295711375253156,\n",
       "      'datetime': '2011-09-01T00:00:00.000+02:00'},\n",
       "     {'value': 16616990.1505,\n",
       "      'percentage': 0.373589668527958,\n",
       "      'datetime': '2011-10-01T00:00:00.000+02:00'},\n",
       "     {'value': 15806230.4075,\n",
       "      'percentage': 0.34921073279293663,\n",
       "      'datetime': '2011-11-01T00:00:00.000+01:00'},\n",
       "     {'value': 16189698.03,\n",
       "      'percentage': 0.33861181235505805,\n",
       "      'datetime': '2011-12-01T00:00:00.000+01:00'}]}},\n",
       "  {'type': 'No renovable',\n",
       "   'id': '10342',\n",
       "   'groupId': None,\n",
       "   'attributes': {'title': 'No renovable',\n",
       "    'description': None,\n",
       "    'color': '#666666',\n",
       "    'type': 'No renovable',\n",
       "    'magnitude': None,\n",
       "    'composite': False,\n",
       "    'last-update': '2019-06-20T14:30:27.000+02:00',\n",
       "    'values': [{'value': 15992149.054,\n",
       "      'percentage': 0.30860461812285217,\n",
       "      'datetime': '2011-01-01T00:00:00.000+01:00'},\n",
       "     {'value': 15145624.1365,\n",
       "      'percentage': 0.3273013563230025,\n",
       "      'datetime': '2011-02-01T00:00:00.000+01:00'},\n",
       "     {'value': 15466216.827,\n",
       "      'percentage': 0.3084325404602019,\n",
       "      'datetime': '2011-03-01T00:00:00.000+01:00'},\n",
       "     {'value': 13559600.641,\n",
       "      'percentage': 0.3126773364876451,\n",
       "      'datetime': '2011-04-01T00:00:00.000+02:00'},\n",
       "     {'value': 14617141.8275,\n",
       "      'percentage': 0.33420837495775146,\n",
       "      'datetime': '2011-05-01T00:00:00.000+02:00'},\n",
       "     {'value': 16091804.242,\n",
       "      'percentage': 0.3568880749357483,\n",
       "      'datetime': '2011-06-01T00:00:00.000+02:00'},\n",
       "     {'value': 17459301.692,\n",
       "      'percentage': 0.3643749582834248,\n",
       "      'datetime': '2011-07-01T00:00:00.000+02:00'},\n",
       "     {'value': 17631488.86,\n",
       "      'percentage': 0.3773980027012528,\n",
       "      'datetime': '2011-08-01T00:00:00.000+02:00'},\n",
       "     {'value': 18110523.428,\n",
       "      'percentage': 0.39295711364404295,\n",
       "      'datetime': '2011-09-01T00:00:00.000+02:00'},\n",
       "     {'value': 16616990.1445,\n",
       "      'percentage': 0.3735896683930636,\n",
       "      'datetime': '2011-10-01T00:00:00.000+02:00'},\n",
       "     {'value': 15806230.4165,\n",
       "      'percentage': 0.3492107329917757,\n",
       "      'datetime': '2011-11-01T00:00:00.000+01:00'},\n",
       "     {'value': 16189698.028,\n",
       "      'percentage': 0.33861181231322757,\n",
       "      'datetime': '2011-12-01T00:00:00.000+01:00'}]}}]}"
      ]
     },
     "execution_count": 9,
     "metadata": {},
     "output_type": "execute_result"
    }
   ],
   "source": [
    "#Json: Pasarlo al formato json y ver qué contiene\n",
    "\n",
    "json_res1 = res1.json()\n",
    "json_res1"
   ]
  },
  {
   "cell_type": "code",
   "execution_count": 10,
   "metadata": {},
   "outputs": [
    {
     "data": {
      "text/plain": [
       "dict_keys(['data', 'included'])"
      ]
     },
     "execution_count": 10,
     "metadata": {},
     "output_type": "execute_result"
    }
   ],
   "source": [
    "# Aplicamos un .keys para ver las claves del diccionario\n",
    "\n",
    "json_res1.keys()"
   ]
  },
  {
   "cell_type": "code",
   "execution_count": 11,
   "metadata": {},
   "outputs": [
    {
     "data": {
      "text/plain": [
       "{'type': 'Evolución de la generación renovable/no renovable',\n",
       " 'id': 'gen2',\n",
       " 'attributes': {'title': 'Evolución de la generación renovable/no renovable',\n",
       "  'last-update': '2019-06-12T15:32:24.000+02:00',\n",
       "  'description': None},\n",
       " 'meta': {'cache-control': {'cache': 'HIT',\n",
       "   'expireAt': '2023-11-24T08:38:00'}}}"
      ]
     },
     "execution_count": 11,
     "metadata": {},
     "output_type": "execute_result"
    }
   ],
   "source": [
    "# Vemos que tenemos 2 claves y ahora miramos dentro de cada una\n",
    "\n",
    "json_res1['data']"
   ]
  },
  {
   "cell_type": "code",
   "execution_count": 27,
   "metadata": {},
   "outputs": [
    {
     "data": {
      "text/plain": [
       "[{'type': 'Renovable',\n",
       "  'id': '10299',\n",
       "  'groupId': None,\n",
       "  'attributes': {'title': 'Renovable',\n",
       "   'description': 'Energía renovable: incluye hidráulica, hidroeólica, eólica, solar fotovoltaica, solar térmica, otras renovables y residuos renovables.',\n",
       "   'color': '#92d050',\n",
       "   'type': 'Renovable',\n",
       "   'magnitude': None,\n",
       "   'composite': False,\n",
       "   'last-update': '2019-06-12T15:32:24.000+02:00',\n",
       "   'values': [{'value': 9918268.536,\n",
       "     'percentage': 0.19139538179995882,\n",
       "     'datetime': '2011-01-01T00:00:00.000+01:00'},\n",
       "    {'value': 7991499.8525,\n",
       "     'percentage': 0.17269864333123283,\n",
       "     'datetime': '2011-02-01T00:00:00.000+01:00'},\n",
       "    {'value': 9606067.697,\n",
       "     'percentage': 0.19156745937028827,\n",
       "     'datetime': '2011-03-01T00:00:00.000+01:00'},\n",
       "    {'value': 8123455.767,\n",
       "     'percentage': 0.18732266381212814,\n",
       "     'datetime': '2011-04-01T00:00:00.000+02:00'},\n",
       "    {'value': 7251163.8615,\n",
       "     'percentage': 0.1657916246078299,\n",
       "     'datetime': '2011-05-01T00:00:00.000+02:00'},\n",
       "    {'value': 6452804.794,\n",
       "     'percentage': 0.14311192494227135,\n",
       "     'datetime': '2011-06-01T00:00:00.000+02:00'},\n",
       "    {'value': 6498576.444,\n",
       "     'percentage': 0.13562504173744516,\n",
       "     'datetime': '2011-07-01T00:00:00.000+02:00'},\n",
       "    {'value': 5727787.99,\n",
       "     'percentage': 0.12260199717031858,\n",
       "     'datetime': '2011-08-01T00:00:00.000+02:00'},\n",
       "    {'value': 4933369.656,\n",
       "     'percentage': 0.10704288632341043,\n",
       "     'datetime': '2011-09-01T00:00:00.000+02:00'},\n",
       "    {'value': 5622637.3765,\n",
       "     'percentage': 0.12641033151700684,\n",
       "     'datetime': '2011-10-01T00:00:00.000+02:00'},\n",
       "    {'value': 6825133.5855,\n",
       "     'percentage': 0.15078926722915656,\n",
       "     'datetime': '2011-11-01T00:00:00.000+01:00'},\n",
       "    {'value': 7716287.29,\n",
       "     'percentage': 0.16138818766585725,\n",
       "     'datetime': '2011-12-01T00:00:00.000+01:00'}]}},\n",
       " {'type': 'Renovable',\n",
       "  'id': '10343',\n",
       "  'groupId': None,\n",
       "  'attributes': {'title': 'Renovable',\n",
       "   'description': 'Energía renovable: incluye hidráulica, hidroeólica, eólica, solar fotovoltaica, solar térmica, otras renovables y residuos renovables.',\n",
       "   'color': '#92d050',\n",
       "   'type': 'Renovable',\n",
       "   'magnitude': None,\n",
       "   'composite': False,\n",
       "   'last-update': '2019-06-20T14:30:27.000+02:00',\n",
       "   'values': [{'value': 9918268.54,\n",
       "     'percentage': 0.19139538187714783,\n",
       "     'datetime': '2011-01-01T00:00:00.000+01:00'},\n",
       "    {'value': 7991499.8685,\n",
       "     'percentage': 0.1726986436769975,\n",
       "     'datetime': '2011-02-01T00:00:00.000+01:00'},\n",
       "    {'value': 9606067.704,\n",
       "     'percentage': 0.19156745950988463,\n",
       "     'datetime': '2011-03-01T00:00:00.000+01:00'},\n",
       "    {'value': 8123455.753,\n",
       "     'percentage': 0.1873226634892954,\n",
       "     'datetime': '2011-04-01T00:00:00.000+02:00'},\n",
       "    {'value': 7251163.8805,\n",
       "     'percentage': 0.16579162504224856,\n",
       "     'datetime': '2011-05-01T00:00:00.000+02:00'},\n",
       "    {'value': 6452804.799,\n",
       "     'percentage': 0.14311192505316261,\n",
       "     'datetime': '2011-06-01T00:00:00.000+02:00'},\n",
       "    {'value': 6498576.443,\n",
       "     'percentage': 0.1356250417165752,\n",
       "     'datetime': '2011-07-01T00:00:00.000+02:00'},\n",
       "    {'value': 5727787.995,\n",
       "     'percentage': 0.12260199727734243,\n",
       "     'datetime': '2011-08-01T00:00:00.000+02:00'},\n",
       "    {'value': 4933369.654,\n",
       "     'percentage': 0.10704288628001497,\n",
       "     'datetime': '2011-09-01T00:00:00.000+02:00'},\n",
       "    {'value': 5622637.3785,\n",
       "     'percentage': 0.1264103315619716,\n",
       "     'datetime': '2011-10-01T00:00:00.000+02:00'},\n",
       "    {'value': 6825133.5745,\n",
       "     'percentage': 0.15078926698613102,\n",
       "     'datetime': '2011-11-01T00:00:00.000+01:00'},\n",
       "    {'value': 7716287.29,\n",
       "     'percentage': 0.16138818766585725,\n",
       "     'datetime': '2011-12-01T00:00:00.000+01:00'}]}},\n",
       " {'type': 'No renovable',\n",
       "  'id': '10298',\n",
       "  'groupId': None,\n",
       "  'attributes': {'title': 'No renovable',\n",
       "   'description': None,\n",
       "   'color': '#666666',\n",
       "   'type': 'No renovable',\n",
       "   'magnitude': None,\n",
       "   'composite': False,\n",
       "   'last-update': '2019-06-12T15:32:24.000+02:00',\n",
       "   'values': [{'value': 15992149.058,\n",
       "     'percentage': 0.30860461820004126,\n",
       "     'datetime': '2011-01-01T00:00:00.000+01:00'},\n",
       "    {'value': 15145624.1525,\n",
       "     'percentage': 0.3273013566687672,\n",
       "     'datetime': '2011-02-01T00:00:00.000+01:00'},\n",
       "    {'value': 15466216.837,\n",
       "     'percentage': 0.3084325406596253,\n",
       "     'datetime': '2011-03-01T00:00:00.000+01:00'},\n",
       "    {'value': 13559600.629,\n",
       "     'percentage': 0.31267733621093136,\n",
       "     'datetime': '2011-04-01T00:00:00.000+02:00'},\n",
       "    {'value': 14617141.8465,\n",
       "     'percentage': 0.3342083753921701,\n",
       "     'datetime': '2011-05-01T00:00:00.000+02:00'},\n",
       "    {'value': 16091804.248,\n",
       "     'percentage': 0.3568880750688178,\n",
       "     'datetime': '2011-06-01T00:00:00.000+02:00'},\n",
       "    {'value': 17459301.691,\n",
       "     'percentage': 0.3643749582625548,\n",
       "     'datetime': '2011-07-01T00:00:00.000+02:00'},\n",
       "    {'value': 17631488.867,\n",
       "     'percentage': 0.3773980028510862,\n",
       "     'datetime': '2011-08-01T00:00:00.000+02:00'},\n",
       "    {'value': 18110523.433,\n",
       "     'percentage': 0.39295711375253156,\n",
       "     'datetime': '2011-09-01T00:00:00.000+02:00'},\n",
       "    {'value': 16616990.1505,\n",
       "     'percentage': 0.373589668527958,\n",
       "     'datetime': '2011-10-01T00:00:00.000+02:00'},\n",
       "    {'value': 15806230.4075,\n",
       "     'percentage': 0.34921073279293663,\n",
       "     'datetime': '2011-11-01T00:00:00.000+01:00'},\n",
       "    {'value': 16189698.03,\n",
       "     'percentage': 0.33861181235505805,\n",
       "     'datetime': '2011-12-01T00:00:00.000+01:00'}]}},\n",
       " {'type': 'No renovable',\n",
       "  'id': '10342',\n",
       "  'groupId': None,\n",
       "  'attributes': {'title': 'No renovable',\n",
       "   'description': None,\n",
       "   'color': '#666666',\n",
       "   'type': 'No renovable',\n",
       "   'magnitude': None,\n",
       "   'composite': False,\n",
       "   'last-update': '2019-06-20T14:30:27.000+02:00',\n",
       "   'values': [{'value': 15992149.054,\n",
       "     'percentage': 0.30860461812285217,\n",
       "     'datetime': '2011-01-01T00:00:00.000+01:00'},\n",
       "    {'value': 15145624.1365,\n",
       "     'percentage': 0.3273013563230025,\n",
       "     'datetime': '2011-02-01T00:00:00.000+01:00'},\n",
       "    {'value': 15466216.827,\n",
       "     'percentage': 0.3084325404602019,\n",
       "     'datetime': '2011-03-01T00:00:00.000+01:00'},\n",
       "    {'value': 13559600.641,\n",
       "     'percentage': 0.3126773364876451,\n",
       "     'datetime': '2011-04-01T00:00:00.000+02:00'},\n",
       "    {'value': 14617141.8275,\n",
       "     'percentage': 0.33420837495775146,\n",
       "     'datetime': '2011-05-01T00:00:00.000+02:00'},\n",
       "    {'value': 16091804.242,\n",
       "     'percentage': 0.3568880749357483,\n",
       "     'datetime': '2011-06-01T00:00:00.000+02:00'},\n",
       "    {'value': 17459301.692,\n",
       "     'percentage': 0.3643749582834248,\n",
       "     'datetime': '2011-07-01T00:00:00.000+02:00'},\n",
       "    {'value': 17631488.86,\n",
       "     'percentage': 0.3773980027012528,\n",
       "     'datetime': '2011-08-01T00:00:00.000+02:00'},\n",
       "    {'value': 18110523.428,\n",
       "     'percentage': 0.39295711364404295,\n",
       "     'datetime': '2011-09-01T00:00:00.000+02:00'},\n",
       "    {'value': 16616990.1445,\n",
       "     'percentage': 0.3735896683930636,\n",
       "     'datetime': '2011-10-01T00:00:00.000+02:00'},\n",
       "    {'value': 15806230.4165,\n",
       "     'percentage': 0.3492107329917757,\n",
       "     'datetime': '2011-11-01T00:00:00.000+01:00'},\n",
       "    {'value': 16189698.028,\n",
       "     'percentage': 0.33861181231322757,\n",
       "     'datetime': '2011-12-01T00:00:00.000+01:00'}]}}]"
      ]
     },
     "execution_count": 27,
     "metadata": {},
     "output_type": "execute_result"
    }
   ],
   "source": [
    "json_res1['included']"
   ]
  },
  {
   "cell_type": "code",
   "execution_count": 37,
   "metadata": {},
   "outputs": [
    {
     "data": {
      "text/plain": [
       "dict_keys(['type', 'id', 'groupId', 'attributes'])"
      ]
     },
     "execution_count": 37,
     "metadata": {},
     "output_type": "execute_result"
    }
   ],
   "source": [
    "#Accedemos dentro del diccionario por índices para acceder a su vez a las keys y ver cuales nos interesan\n",
    "included = json_res1['included'][0]\n",
    "included.keys()"
   ]
  },
  {
   "cell_type": "code",
   "execution_count": 45,
   "metadata": {},
   "outputs": [
    {
     "data": {
      "text/plain": [
       "'Renovable'"
      ]
     },
     "execution_count": 45,
     "metadata": {},
     "output_type": "execute_result"
    }
   ],
   "source": [
    "#Miramos qué hay en cada una de las claves y vemos que nos interesa type porque nos da el tipo de energía\n",
    "\n",
    "included['type']"
   ]
  },
  {
   "cell_type": "code",
   "execution_count": 46,
   "metadata": {},
   "outputs": [
    {
     "data": {
      "text/plain": [
       "'10299'"
      ]
     },
     "execution_count": 46,
     "metadata": {},
     "output_type": "execute_result"
    }
   ],
   "source": [
    "#nos interesa el id para identificar a quién pertenece la energía renovable o no renovable\n",
    "included['id']"
   ]
  },
  {
   "cell_type": "code",
   "execution_count": 36,
   "metadata": {},
   "outputs": [
    {
     "data": {
      "text/plain": [
       "{'title': 'No renovable',\n",
       " 'description': None,\n",
       " 'color': '#666666',\n",
       " 'type': 'No renovable',\n",
       " 'magnitude': None,\n",
       " 'composite': False,\n",
       " 'last-update': '2019-06-12T15:32:24.000+02:00',\n",
       " 'values': [{'value': 15992149.058,\n",
       "   'percentage': 0.30860461820004126,\n",
       "   'datetime': '2011-01-01T00:00:00.000+01:00'},\n",
       "  {'value': 15145624.1525,\n",
       "   'percentage': 0.3273013566687672,\n",
       "   'datetime': '2011-02-01T00:00:00.000+01:00'},\n",
       "  {'value': 15466216.837,\n",
       "   'percentage': 0.3084325406596253,\n",
       "   'datetime': '2011-03-01T00:00:00.000+01:00'},\n",
       "  {'value': 13559600.629,\n",
       "   'percentage': 0.31267733621093136,\n",
       "   'datetime': '2011-04-01T00:00:00.000+02:00'},\n",
       "  {'value': 14617141.8465,\n",
       "   'percentage': 0.3342083753921701,\n",
       "   'datetime': '2011-05-01T00:00:00.000+02:00'},\n",
       "  {'value': 16091804.248,\n",
       "   'percentage': 0.3568880750688178,\n",
       "   'datetime': '2011-06-01T00:00:00.000+02:00'},\n",
       "  {'value': 17459301.691,\n",
       "   'percentage': 0.3643749582625548,\n",
       "   'datetime': '2011-07-01T00:00:00.000+02:00'},\n",
       "  {'value': 17631488.867,\n",
       "   'percentage': 0.3773980028510862,\n",
       "   'datetime': '2011-08-01T00:00:00.000+02:00'},\n",
       "  {'value': 18110523.433,\n",
       "   'percentage': 0.39295711375253156,\n",
       "   'datetime': '2011-09-01T00:00:00.000+02:00'},\n",
       "  {'value': 16616990.1505,\n",
       "   'percentage': 0.373589668527958,\n",
       "   'datetime': '2011-10-01T00:00:00.000+02:00'},\n",
       "  {'value': 15806230.4075,\n",
       "   'percentage': 0.34921073279293663,\n",
       "   'datetime': '2011-11-01T00:00:00.000+01:00'},\n",
       "  {'value': 16189698.03,\n",
       "   'percentage': 0.33861181235505805,\n",
       "   'datetime': '2011-12-01T00:00:00.000+01:00'}]}"
      ]
     },
     "execution_count": 36,
     "metadata": {},
     "output_type": "execute_result"
    }
   ],
   "source": [
    "included['attributes']"
   ]
  },
  {
   "cell_type": "code",
   "execution_count": 43,
   "metadata": {},
   "outputs": [
    {
     "data": {
      "text/plain": [
       "True"
      ]
     },
     "execution_count": 43,
     "metadata": {},
     "output_type": "execute_result"
    }
   ],
   "source": [
    "# Crear un DataFrame de Pandas llamado 'df_colores' a partir de 'diccionario_todos_color'.\n",
    "df_colores = pd.DataFrame(diccionarios_todos_color)\n",
    "\n",
    "# Mostrar el DataFrame 'df_colores' que contiene información de colores de Pokémon y especies asociadas.\n",
    "df_colores\n"
   ]
  }
 ],
 "metadata": {
  "kernelspec": {
   "display_name": "base",
   "language": "python",
   "name": "python3"
  },
  "language_info": {
   "codemirror_mode": {
    "name": "ipython",
    "version": 3
   },
   "file_extension": ".py",
   "mimetype": "text/x-python",
   "name": "python",
   "nbconvert_exporter": "python",
   "pygments_lexer": "ipython3",
   "version": "3.9.7"
  }
 },
 "nbformat": 4,
 "nbformat_minor": 2
}
